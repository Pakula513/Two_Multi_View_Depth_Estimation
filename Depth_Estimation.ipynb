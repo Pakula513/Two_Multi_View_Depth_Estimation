{
  "cells": [
    {
      "cell_type": "markdown",
      "metadata": {
        "id": "hCfjjKKhR83h"
      },
      "source": [
        "# **CMSC426 Project 4: Depth Estimation**"
      ]
    },
    {
      "cell_type": "markdown",
      "metadata": {
        "id": "oYiltHdjM_V_"
      },
      "source": [
        "# **Introduction**\n",
        "\n",
        "Monocular cameras struggle with depth ambiguity, as they cannot determine how far objects are in a scene. While two-view reconstruction can estimate 3D points using triangulation, the result lacks a metric scale (Project 3). This is where a **stereo camera** comes in—a system with two cameras placed side by side, separated by a known baseline (distance between cameras).\n",
        "\n",
        "A stereo camera solves the depth problem by analyzing the disparity between corresponding points in the two images. Using the baseline and disparity, we can calculate the depth of objects in the scene. This technique provides accurate metric depth information, critical for applications like robotics, 3D reconstruction, and autonomous systems.\n",
        "\n",
        "\n",
        "\n"
      ]
    },
    {
      "cell_type": "code",
      "execution_count": 2,
      "metadata": {
        "colab": {
          "base_uri": "https://localhost:8080/"
        },
        "collapsed": true,
        "id": "rcvoHyq4u4PE",
        "outputId": "cf8a3cdb-5b55-4af1-b587-0cffe157abf3"
      },
      "outputs": [
        {
          "name": "stdout",
          "output_type": "stream",
          "text": [
            "Requirement already satisfied: matplotlib in d:\\anaconda3\\lib\\site-packages (3.8.0)\n",
            "Requirement already satisfied: contourpy>=1.0.1 in d:\\anaconda3\\lib\\site-packages (from matplotlib) (1.2.0)\n",
            "Requirement already satisfied: cycler>=0.10 in d:\\anaconda3\\lib\\site-packages (from matplotlib) (0.11.0)\n",
            "Requirement already satisfied: fonttools>=4.22.0 in d:\\anaconda3\\lib\\site-packages (from matplotlib) (4.25.0)\n",
            "Requirement already satisfied: kiwisolver>=1.0.1 in d:\\anaconda3\\lib\\site-packages (from matplotlib) (1.4.4)\n",
            "Requirement already satisfied: numpy<2,>=1.21 in d:\\anaconda3\\lib\\site-packages (from matplotlib) (1.26.4)\n",
            "Requirement already satisfied: packaging>=20.0 in d:\\anaconda3\\lib\\site-packages (from matplotlib) (23.1)\n",
            "Requirement already satisfied: pillow>=6.2.0 in d:\\anaconda3\\lib\\site-packages (from matplotlib) (10.2.0)\n",
            "Requirement already satisfied: pyparsing>=2.3.1 in d:\\anaconda3\\lib\\site-packages (from matplotlib) (3.0.9)\n",
            "Requirement already satisfied: python-dateutil>=2.7 in d:\\anaconda3\\lib\\site-packages (from matplotlib) (2.8.2)\n",
            "Requirement already satisfied: six>=1.5 in d:\\anaconda3\\lib\\site-packages (from python-dateutil>=2.7->matplotlib) (1.16.0)\n",
            "Collecting transforms3d\n",
            "  Downloading transforms3d-0.4.2-py3-none-any.whl.metadata (2.8 kB)\n",
            "Requirement already satisfied: numpy>=1.15 in d:\\anaconda3\\lib\\site-packages (from transforms3d) (1.26.4)\n",
            "Downloading transforms3d-0.4.2-py3-none-any.whl (1.4 MB)\n",
            "   ---------------------------------------- 0.0/1.4 MB ? eta -:--:--\n",
            "   --- ------------------------------------ 0.1/1.4 MB 2.4 MB/s eta 0:00:01\n",
            "   ---------------------------------------  1.4/1.4 MB 14.5 MB/s eta 0:00:01\n",
            "   ---------------------------------------- 1.4/1.4 MB 14.5 MB/s eta 0:00:00\n",
            "Installing collected packages: transforms3d\n",
            "Successfully installed transforms3d-0.4.2\n",
            "Collecting pyrender\n",
            "  Downloading pyrender-0.1.45-py3-none-any.whl.metadata (1.5 kB)\n",
            "Collecting freetype-py (from pyrender)\n",
            "  Downloading freetype_py-2.5.1-py3-none-win_amd64.whl.metadata (6.5 kB)\n",
            "Requirement already satisfied: imageio in d:\\anaconda3\\lib\\site-packages (from pyrender) (2.33.1)\n",
            "Requirement already satisfied: networkx in d:\\anaconda3\\lib\\site-packages (from pyrender) (3.1)\n",
            "Requirement already satisfied: numpy in d:\\anaconda3\\lib\\site-packages (from pyrender) (1.26.4)\n",
            "Requirement already satisfied: Pillow in d:\\anaconda3\\lib\\site-packages (from pyrender) (10.2.0)\n",
            "Collecting pyglet>=1.4.10 (from pyrender)\n",
            "  Downloading pyglet-2.0.20-py3-none-any.whl.metadata (7.9 kB)\n",
            "Collecting PyOpenGL==3.1.0 (from pyrender)\n",
            "  Downloading PyOpenGL-3.1.0.zip (2.2 MB)\n",
            "     ---------------------------------------- 0.0/2.2 MB ? eta -:--:--\n",
            "     - -------------------------------------- 0.1/2.2 MB 2.6 MB/s eta 0:00:01\n",
            "     --------------- ------------------------ 0.8/2.2 MB 10.8 MB/s eta 0:00:01\n",
            "     -------------------- ------------------- 1.1/2.2 MB 8.9 MB/s eta 0:00:01\n",
            "     ---------------------------------------- 2.2/2.2 MB 12.7 MB/s eta 0:00:00\n",
            "  Preparing metadata (setup.py): started\n",
            "  Preparing metadata (setup.py): finished with status 'done'\n",
            "Requirement already satisfied: scipy in d:\\anaconda3\\lib\\site-packages (from pyrender) (1.11.4)\n",
            "Requirement already satisfied: six in d:\\anaconda3\\lib\\site-packages (from pyrender) (1.16.0)\n",
            "Collecting trimesh (from pyrender)\n",
            "  Downloading trimesh-4.5.3-py3-none-any.whl.metadata (18 kB)\n",
            "Downloading pyrender-0.1.45-py3-none-any.whl (1.2 MB)\n",
            "   ---------------------------------------- 0.0/1.2 MB ? eta -:--:--\n",
            "   ------------------------------------ --- 1.1/1.2 MB 35.3 MB/s eta 0:00:01\n",
            "   ---------------------------------------- 1.2/1.2 MB 25.6 MB/s eta 0:00:00\n",
            "Downloading pyglet-2.0.20-py3-none-any.whl (945 kB)\n",
            "   ---------------------------------------- 0.0/945.1 kB ? eta -:--:--\n",
            "   --------------------------------------  942.1/945.1 kB 29.1 MB/s eta 0:00:01\n",
            "   --------------------------------------- 945.1/945.1 kB 19.9 MB/s eta 0:00:00\n",
            "Downloading freetype_py-2.5.1-py3-none-win_amd64.whl (814 kB)\n",
            "   ---------------------------------------- 0.0/814.6 kB ? eta -:--:--\n",
            "   --------------------------------------- 814.6/814.6 kB 50.3 MB/s eta 0:00:00\n",
            "Downloading trimesh-4.5.3-py3-none-any.whl (704 kB)\n",
            "   ---------------------------------------- 0.0/704.8 kB ? eta -:--:--\n",
            "   --------------------------------------- 704.8/704.8 kB 43.4 MB/s eta 0:00:00\n",
            "Building wheels for collected packages: PyOpenGL\n",
            "  Building wheel for PyOpenGL (setup.py): started\n",
            "  Building wheel for PyOpenGL (setup.py): finished with status 'done'\n",
            "  Created wheel for PyOpenGL: filename=PyOpenGL-3.1.0-py3-none-any.whl size=1749286 sha256=ee17f5ccca7798fc8640117b19f89197a7de6603851c708ebe0d308f9c408513\n",
            "  Stored in directory: c:\\users\\akula\\appdata\\local\\pip\\cache\\wheels\\2f\\37\\f5\\f88cd3dddf75bc3ce608e44bf8a79078c408bf1f351a50818e\n",
            "Successfully built PyOpenGL\n",
            "Installing collected packages: PyOpenGL, trimesh, pyglet, freetype-py, pyrender\n",
            "Successfully installed PyOpenGL-3.1.0 freetype-py-2.5.1 pyglet-2.0.20 pyrender-0.1.45 trimesh-4.5.3\n",
            "Collecting opencv-python\n",
            "  Downloading opencv_python-4.10.0.84-cp37-abi3-win_amd64.whl.metadata (20 kB)\n",
            "Requirement already satisfied: numpy>=1.21.2 in d:\\anaconda3\\lib\\site-packages (from opencv-python) (1.26.4)\n",
            "Downloading opencv_python-4.10.0.84-cp37-abi3-win_amd64.whl (38.8 MB)\n",
            "   ---------------------------------------- 0.0/38.8 MB ? eta -:--:--\n",
            "   ---------------------------------------- 0.0/38.8 MB 960.0 kB/s eta 0:00:41\n",
            "    --------------------------------------- 0.8/38.8 MB 8.2 MB/s eta 0:00:05\n",
            "   -- ------------------------------------- 2.5/38.8 MB 17.4 MB/s eta 0:00:03\n",
            "   ---- ----------------------------------- 4.2/38.8 MB 22.2 MB/s eta 0:00:02\n",
            "   ------ --------------------------------- 5.8/38.8 MB 24.8 MB/s eta 0:00:02\n",
            "   ------- -------------------------------- 7.5/38.8 MB 26.5 MB/s eta 0:00:02\n",
            "   --------- ------------------------------ 9.5/38.8 MB 28.7 MB/s eta 0:00:02\n",
            "   ----------- ---------------------------- 11.3/38.8 MB 36.4 MB/s eta 0:00:01\n",
            "   ------------- -------------------------- 12.9/38.8 MB 36.4 MB/s eta 0:00:01\n",
            "   --------------- ------------------------ 14.6/38.8 MB 36.4 MB/s eta 0:00:01\n",
            "   ----------------- ---------------------- 16.5/38.8 MB 38.5 MB/s eta 0:00:01\n",
            "   ----------------- ---------------------- 17.5/38.8 MB 34.4 MB/s eta 0:00:01\n",
            "   ------------------- -------------------- 18.5/38.8 MB 32.7 MB/s eta 0:00:01\n",
            "   --------------------- ------------------ 20.4/38.8 MB 32.7 MB/s eta 0:00:01\n",
            "   ---------------------- ----------------- 22.1/38.8 MB 32.7 MB/s eta 0:00:01\n",
            "   ------------------------ --------------- 23.9/38.8 MB 32.8 MB/s eta 0:00:01\n",
            "   -------------------------- ------------- 25.7/38.8 MB 32.8 MB/s eta 0:00:01\n",
            "   ---------------------------- ----------- 27.4/38.8 MB 34.4 MB/s eta 0:00:01\n",
            "   ------------------------------ --------- 29.3/38.8 MB 38.5 MB/s eta 0:00:01\n",
            "   ------------------------------- -------- 30.9/38.8 MB 36.4 MB/s eta 0:00:01\n",
            "   --------------------------------- ------ 32.8/38.8 MB 36.4 MB/s eta 0:00:01\n",
            "   ----------------------------------- ---- 34.6/38.8 MB 36.3 MB/s eta 0:00:01\n",
            "   ------------------------------------- -- 36.1/38.8 MB 36.3 MB/s eta 0:00:01\n",
            "   ---------------------------------------  37.9/38.8 MB 36.4 MB/s eta 0:00:01\n",
            "   ---------------------------------------  38.8/38.8 MB 36.3 MB/s eta 0:00:01\n",
            "   ---------------------------------------  38.8/38.8 MB 36.3 MB/s eta 0:00:01\n",
            "   ---------------------------------------- 38.8/38.8 MB 28.4 MB/s eta 0:00:00\n",
            "Installing collected packages: opencv-python\n",
            "Successfully installed opencv-python-4.10.0.84\n",
            "Collecting open3d\n",
            "  Downloading open3d-0.18.0-cp311-cp311-win_amd64.whl.metadata (4.1 kB)\n",
            "Requirement already satisfied: numpy>=1.18.0 in d:\\anaconda3\\lib\\site-packages (from open3d) (1.26.4)\n",
            "Collecting dash>=2.6.0 (from open3d)\n",
            "  Downloading dash-2.18.2-py3-none-any.whl.metadata (10 kB)\n",
            "Requirement already satisfied: werkzeug>=2.2.3 in d:\\anaconda3\\lib\\site-packages (from open3d) (2.2.3)\n",
            "Requirement already satisfied: nbformat>=5.7.0 in d:\\anaconda3\\lib\\site-packages (from open3d) (5.9.2)\n",
            "Collecting configargparse (from open3d)\n",
            "  Downloading ConfigArgParse-1.7-py3-none-any.whl.metadata (23 kB)\n",
            "Collecting ipywidgets>=8.0.4 (from open3d)\n",
            "  Downloading ipywidgets-8.1.5-py3-none-any.whl.metadata (2.3 kB)\n",
            "Requirement already satisfied: Flask<3.1,>=1.0.4 in d:\\anaconda3\\lib\\site-packages (from dash>=2.6.0->open3d) (2.2.5)\n",
            "Requirement already satisfied: plotly>=5.0.0 in d:\\anaconda3\\lib\\site-packages (from dash>=2.6.0->open3d) (5.9.0)\n",
            "Collecting dash-html-components==2.0.0 (from dash>=2.6.0->open3d)\n",
            "  Downloading dash_html_components-2.0.0-py3-none-any.whl.metadata (3.8 kB)\n",
            "Collecting dash-core-components==2.0.0 (from dash>=2.6.0->open3d)\n",
            "  Downloading dash_core_components-2.0.0-py3-none-any.whl.metadata (2.9 kB)\n",
            "Collecting dash-table==5.0.0 (from dash>=2.6.0->open3d)\n",
            "  Downloading dash_table-5.0.0-py3-none-any.whl.metadata (2.4 kB)\n",
            "Requirement already satisfied: importlib-metadata in d:\\anaconda3\\lib\\site-packages (from dash>=2.6.0->open3d) (7.0.1)\n",
            "Requirement already satisfied: typing-extensions>=4.1.1 in d:\\anaconda3\\lib\\site-packages (from dash>=2.6.0->open3d) (4.9.0)\n",
            "Requirement already satisfied: requests in d:\\anaconda3\\lib\\site-packages (from dash>=2.6.0->open3d) (2.31.0)\n",
            "Collecting retrying (from dash>=2.6.0->open3d)\n",
            "  Downloading retrying-1.3.4-py3-none-any.whl.metadata (6.9 kB)\n",
            "Requirement already satisfied: nest-asyncio in d:\\anaconda3\\lib\\site-packages (from dash>=2.6.0->open3d) (1.6.0)\n",
            "Requirement already satisfied: setuptools in d:\\anaconda3\\lib\\site-packages (from dash>=2.6.0->open3d) (68.2.2)\n",
            "Collecting comm>=0.1.3 (from ipywidgets>=8.0.4->open3d)\n",
            "  Downloading comm-0.2.2-py3-none-any.whl.metadata (3.7 kB)\n",
            "Requirement already satisfied: ipython>=6.1.0 in d:\\anaconda3\\lib\\site-packages (from ipywidgets>=8.0.4->open3d) (8.20.0)\n",
            "Requirement already satisfied: traitlets>=4.3.1 in d:\\anaconda3\\lib\\site-packages (from ipywidgets>=8.0.4->open3d) (5.7.1)\n",
            "Collecting widgetsnbextension~=4.0.12 (from ipywidgets>=8.0.4->open3d)\n",
            "  Downloading widgetsnbextension-4.0.13-py3-none-any.whl.metadata (1.6 kB)\n",
            "Collecting jupyterlab-widgets~=3.0.12 (from ipywidgets>=8.0.4->open3d)\n",
            "  Downloading jupyterlab_widgets-3.0.13-py3-none-any.whl.metadata (4.1 kB)\n",
            "Requirement already satisfied: fastjsonschema in d:\\anaconda3\\lib\\site-packages (from nbformat>=5.7.0->open3d) (2.16.2)\n",
            "Requirement already satisfied: jsonschema>=2.6 in d:\\anaconda3\\lib\\site-packages (from nbformat>=5.7.0->open3d) (4.19.2)\n",
            "Requirement already satisfied: jupyter-core in d:\\anaconda3\\lib\\site-packages (from nbformat>=5.7.0->open3d) (5.5.0)\n",
            "Requirement already satisfied: MarkupSafe>=2.1.1 in d:\\anaconda3\\lib\\site-packages (from werkzeug>=2.2.3->open3d) (2.1.3)\n",
            "Requirement already satisfied: Jinja2>=3.0 in d:\\anaconda3\\lib\\site-packages (from Flask<3.1,>=1.0.4->dash>=2.6.0->open3d) (3.1.3)\n",
            "Requirement already satisfied: itsdangerous>=2.0 in d:\\anaconda3\\lib\\site-packages (from Flask<3.1,>=1.0.4->dash>=2.6.0->open3d) (2.0.1)\n",
            "Requirement already satisfied: click>=8.0 in d:\\anaconda3\\lib\\site-packages (from Flask<3.1,>=1.0.4->dash>=2.6.0->open3d) (8.1.7)\n",
            "Requirement already satisfied: decorator in d:\\anaconda3\\lib\\site-packages (from ipython>=6.1.0->ipywidgets>=8.0.4->open3d) (5.1.1)\n",
            "Requirement already satisfied: jedi>=0.16 in d:\\anaconda3\\lib\\site-packages (from ipython>=6.1.0->ipywidgets>=8.0.4->open3d) (0.18.1)\n",
            "Requirement already satisfied: matplotlib-inline in d:\\anaconda3\\lib\\site-packages (from ipython>=6.1.0->ipywidgets>=8.0.4->open3d) (0.1.6)\n",
            "Requirement already satisfied: prompt-toolkit<3.1.0,>=3.0.41 in d:\\anaconda3\\lib\\site-packages (from ipython>=6.1.0->ipywidgets>=8.0.4->open3d) (3.0.43)\n",
            "Requirement already satisfied: pygments>=2.4.0 in d:\\anaconda3\\lib\\site-packages (from ipython>=6.1.0->ipywidgets>=8.0.4->open3d) (2.15.1)\n",
            "Requirement already satisfied: stack-data in d:\\anaconda3\\lib\\site-packages (from ipython>=6.1.0->ipywidgets>=8.0.4->open3d) (0.2.0)\n",
            "Requirement already satisfied: colorama in d:\\anaconda3\\lib\\site-packages (from ipython>=6.1.0->ipywidgets>=8.0.4->open3d) (0.4.6)\n",
            "Requirement already satisfied: attrs>=22.2.0 in d:\\anaconda3\\lib\\site-packages (from jsonschema>=2.6->nbformat>=5.7.0->open3d) (23.1.0)\n",
            "Requirement already satisfied: jsonschema-specifications>=2023.03.6 in d:\\anaconda3\\lib\\site-packages (from jsonschema>=2.6->nbformat>=5.7.0->open3d) (2023.7.1)\n",
            "Requirement already satisfied: referencing>=0.28.4 in d:\\anaconda3\\lib\\site-packages (from jsonschema>=2.6->nbformat>=5.7.0->open3d) (0.30.2)\n",
            "Requirement already satisfied: rpds-py>=0.7.1 in d:\\anaconda3\\lib\\site-packages (from jsonschema>=2.6->nbformat>=5.7.0->open3d) (0.10.6)\n",
            "Requirement already satisfied: tenacity>=6.2.0 in d:\\anaconda3\\lib\\site-packages (from plotly>=5.0.0->dash>=2.6.0->open3d) (8.2.2)\n",
            "Requirement already satisfied: zipp>=0.5 in d:\\anaconda3\\lib\\site-packages (from importlib-metadata->dash>=2.6.0->open3d) (3.17.0)\n",
            "Requirement already satisfied: platformdirs>=2.5 in d:\\anaconda3\\lib\\site-packages (from jupyter-core->nbformat>=5.7.0->open3d) (3.10.0)\n",
            "Requirement already satisfied: pywin32>=300 in d:\\anaconda3\\lib\\site-packages (from jupyter-core->nbformat>=5.7.0->open3d) (305.1)\n",
            "Requirement already satisfied: charset-normalizer<4,>=2 in d:\\anaconda3\\lib\\site-packages (from requests->dash>=2.6.0->open3d) (2.0.4)\n",
            "Requirement already satisfied: idna<4,>=2.5 in d:\\anaconda3\\lib\\site-packages (from requests->dash>=2.6.0->open3d) (3.4)\n",
            "Requirement already satisfied: urllib3<3,>=1.21.1 in d:\\anaconda3\\lib\\site-packages (from requests->dash>=2.6.0->open3d) (2.0.7)\n",
            "Requirement already satisfied: certifi>=2017.4.17 in d:\\anaconda3\\lib\\site-packages (from requests->dash>=2.6.0->open3d) (2024.2.2)\n",
            "Requirement already satisfied: six>=1.7.0 in d:\\anaconda3\\lib\\site-packages (from retrying->dash>=2.6.0->open3d) (1.16.0)\n",
            "Requirement already satisfied: parso<0.9.0,>=0.8.0 in d:\\anaconda3\\lib\\site-packages (from jedi>=0.16->ipython>=6.1.0->ipywidgets>=8.0.4->open3d) (0.8.3)\n",
            "Requirement already satisfied: wcwidth in d:\\anaconda3\\lib\\site-packages (from prompt-toolkit<3.1.0,>=3.0.41->ipython>=6.1.0->ipywidgets>=8.0.4->open3d) (0.2.5)\n",
            "Requirement already satisfied: executing in d:\\anaconda3\\lib\\site-packages (from stack-data->ipython>=6.1.0->ipywidgets>=8.0.4->open3d) (0.8.3)\n",
            "Requirement already satisfied: asttokens in d:\\anaconda3\\lib\\site-packages (from stack-data->ipython>=6.1.0->ipywidgets>=8.0.4->open3d) (2.0.5)\n",
            "Requirement already satisfied: pure-eval in d:\\anaconda3\\lib\\site-packages (from stack-data->ipython>=6.1.0->ipywidgets>=8.0.4->open3d) (0.2.2)\n",
            "Downloading open3d-0.18.0-cp311-cp311-win_amd64.whl (62.9 MB)\n",
            "   ---------------------------------------- 0.0/62.9 MB ? eta -:--:--\n",
            "   ---------------------------------------- 0.2/62.9 MB 3.1 MB/s eta 0:00:21\n",
            "   ---------------------------------------- 0.3/62.9 MB 3.5 MB/s eta 0:00:18\n",
            "   ---------------------------------------- 0.6/62.9 MB 3.9 MB/s eta 0:00:16\n",
            "    --------------------------------------- 0.8/62.9 MB 4.2 MB/s eta 0:00:15\n",
            "    --------------------------------------- 1.1/62.9 MB 4.5 MB/s eta 0:00:14\n",
            "    --------------------------------------- 1.4/62.9 MB 4.8 MB/s eta 0:00:13\n",
            "   - -------------------------------------- 1.7/62.9 MB 5.1 MB/s eta 0:00:13\n",
            "   - -------------------------------------- 2.0/62.9 MB 5.3 MB/s eta 0:00:12\n",
            "   - -------------------------------------- 2.4/62.9 MB 5.6 MB/s eta 0:00:11\n",
            "   - -------------------------------------- 2.8/62.9 MB 5.9 MB/s eta 0:00:11\n",
            "   - -------------------------------------- 3.1/62.9 MB 6.0 MB/s eta 0:00:10\n",
            "   -- ------------------------------------- 3.5/62.9 MB 6.3 MB/s eta 0:00:10\n",
            "   -- ------------------------------------- 3.9/62.9 MB 6.4 MB/s eta 0:00:10\n",
            "   -- ------------------------------------- 4.2/62.9 MB 6.4 MB/s eta 0:00:10\n",
            "   -- ------------------------------------- 4.7/62.9 MB 6.6 MB/s eta 0:00:09\n",
            "   --- ------------------------------------ 5.2/62.9 MB 6.9 MB/s eta 0:00:09\n",
            "   --- ------------------------------------ 5.7/62.9 MB 7.2 MB/s eta 0:00:08\n",
            "   --- ------------------------------------ 6.2/62.9 MB 7.4 MB/s eta 0:00:08\n",
            "   ---- ----------------------------------- 6.8/62.9 MB 7.7 MB/s eta 0:00:08\n",
            "   ---- ----------------------------------- 7.5/62.9 MB 7.9 MB/s eta 0:00:07\n",
            "   ----- ---------------------------------- 8.1/62.9 MB 8.2 MB/s eta 0:00:07\n",
            "   ----- ---------------------------------- 8.7/62.9 MB 8.4 MB/s eta 0:00:07\n",
            "   ----- ---------------------------------- 9.3/62.9 MB 8.6 MB/s eta 0:00:07\n",
            "   ------ --------------------------------- 9.9/62.9 MB 8.8 MB/s eta 0:00:07\n",
            "   ------ --------------------------------- 10.5/62.9 MB 9.4 MB/s eta 0:00:06\n",
            "   ------- -------------------------------- 11.1/62.9 MB 9.9 MB/s eta 0:00:06\n",
            "   ------- -------------------------------- 11.9/62.9 MB 10.7 MB/s eta 0:00:05\n",
            "   -------- ------------------------------- 12.6/62.9 MB 11.5 MB/s eta 0:00:05\n",
            "   -------- ------------------------------- 13.3/62.9 MB 12.1 MB/s eta 0:00:05\n",
            "   -------- ------------------------------- 14.0/62.9 MB 12.6 MB/s eta 0:00:04\n",
            "   --------- ------------------------------ 14.5/62.9 MB 13.4 MB/s eta 0:00:04\n",
            "   --------- ------------------------------ 15.4/62.9 MB 13.4 MB/s eta 0:00:04\n",
            "   ---------- ----------------------------- 16.1/62.9 MB 13.9 MB/s eta 0:00:04\n",
            "   ---------- ----------------------------- 17.0/62.9 MB 14.6 MB/s eta 0:00:04\n",
            "   ----------- ---------------------------- 17.8/62.9 MB 14.6 MB/s eta 0:00:04\n",
            "   ----------- ---------------------------- 18.4/62.9 MB 14.9 MB/s eta 0:00:03\n",
            "   ------------ --------------------------- 19.1/62.9 MB 14.6 MB/s eta 0:00:04\n",
            "   ------------ --------------------------- 20.1/62.9 MB 15.2 MB/s eta 0:00:03\n",
            "   ------------- -------------------------- 20.7/62.9 MB 15.2 MB/s eta 0:00:03\n",
            "   ------------- -------------------------- 21.6/62.9 MB 15.6 MB/s eta 0:00:03\n",
            "   -------------- ------------------------- 22.3/62.9 MB 15.6 MB/s eta 0:00:03\n",
            "   -------------- ------------------------- 23.2/62.9 MB 16.0 MB/s eta 0:00:03\n",
            "   --------------- ------------------------ 24.0/62.9 MB 16.4 MB/s eta 0:00:03\n",
            "   --------------- ------------------------ 25.0/62.9 MB 16.8 MB/s eta 0:00:03\n",
            "   ---------------- ----------------------- 26.0/62.9 MB 17.3 MB/s eta 0:00:03\n",
            "   ----------------- ---------------------- 27.0/62.9 MB 17.7 MB/s eta 0:00:03\n",
            "   ----------------- ---------------------- 28.0/62.9 MB 18.2 MB/s eta 0:00:02\n",
            "   ------------------ --------------------- 28.9/62.9 MB 18.7 MB/s eta 0:00:02\n",
            "   ------------------- -------------------- 29.9/62.9 MB 19.3 MB/s eta 0:00:02\n",
            "   ------------------- -------------------- 30.7/62.9 MB 19.9 MB/s eta 0:00:02\n",
            "   -------------------- ------------------- 31.8/62.9 MB 19.8 MB/s eta 0:00:02\n",
            "   -------------------- ------------------- 32.9/62.9 MB 20.5 MB/s eta 0:00:02\n",
            "   --------------------- ------------------ 33.9/62.9 MB 21.1 MB/s eta 0:00:02\n",
            "   ---------------------- ----------------- 35.0/62.9 MB 21.1 MB/s eta 0:00:02\n",
            "   ---------------------- ----------------- 36.1/62.9 MB 21.8 MB/s eta 0:00:02\n",
            "   ----------------------- ---------------- 37.3/62.9 MB 21.8 MB/s eta 0:00:02\n",
            "   ------------------------ --------------- 38.5/62.9 MB 22.6 MB/s eta 0:00:02\n",
            "   ------------------------- -------------- 39.7/62.9 MB 22.6 MB/s eta 0:00:02\n",
            "   ------------------------- -------------- 40.7/62.9 MB 22.6 MB/s eta 0:00:01\n",
            "   -------------------------- ------------- 41.9/62.9 MB 24.2 MB/s eta 0:00:01\n",
            "   --------------------------- ------------ 43.0/62.9 MB 24.3 MB/s eta 0:00:01\n",
            "   --------------------------- ------------ 44.0/62.9 MB 24.2 MB/s eta 0:00:01\n",
            "   ---------------------------- ----------- 45.2/62.9 MB 24.2 MB/s eta 0:00:01\n",
            "   ----------------------------- ---------- 46.4/62.9 MB 24.2 MB/s eta 0:00:01\n",
            "   ------------------------------ --------- 47.5/62.9 MB 24.2 MB/s eta 0:00:01\n",
            "   ------------------------------ --------- 48.6/62.9 MB 24.2 MB/s eta 0:00:01\n",
            "   ------------------------------- -------- 49.3/62.9 MB 24.2 MB/s eta 0:00:01\n",
            "   ------------------------------- -------- 49.3/62.9 MB 24.2 MB/s eta 0:00:01\n",
            "   ------------------------------- -------- 49.3/62.9 MB 19.3 MB/s eta 0:00:01\n",
            "   -------------------------------- ------- 50.4/62.9 MB 19.3 MB/s eta 0:00:01\n",
            "   -------------------------------- ------- 51.4/62.9 MB 18.7 MB/s eta 0:00:01\n",
            "   --------------------------------- ------ 52.4/62.9 MB 18.7 MB/s eta 0:00:01\n",
            "   ---------------------------------- ----- 53.6/62.9 MB 18.7 MB/s eta 0:00:01\n",
            "   ---------------------------------- ----- 54.9/62.9 MB 19.3 MB/s eta 0:00:01\n",
            "   ----------------------------------- ---- 56.2/62.9 MB 19.2 MB/s eta 0:00:01\n",
            "   ------------------------------------ --- 57.3/62.9 MB 19.2 MB/s eta 0:00:01\n",
            "   ------------------------------------- -- 58.4/62.9 MB 19.3 MB/s eta 0:00:01\n",
            "   ------------------------------------- -- 59.0/62.9 MB 18.7 MB/s eta 0:00:01\n",
            "   ------------------------------------- -- 59.5/62.9 MB 17.7 MB/s eta 0:00:01\n",
            "   -------------------------------------- - 60.3/62.9 MB 21.1 MB/s eta 0:00:01\n",
            "   -------------------------------------- - 61.3/62.9 MB 21.1 MB/s eta 0:00:01\n",
            "   ---------------------------------------  62.4/62.9 MB 21.8 MB/s eta 0:00:01\n",
            "   ---------------------------------------  62.9/62.9 MB 21.1 MB/s eta 0:00:01\n",
            "   ---------------------------------------  62.9/62.9 MB 21.1 MB/s eta 0:00:01\n",
            "   ---------------------------------------  62.9/62.9 MB 21.1 MB/s eta 0:00:01\n",
            "   ---------------------------------------- 62.9/62.9 MB 16.8 MB/s eta 0:00:00\n",
            "Downloading dash-2.18.2-py3-none-any.whl (7.8 MB)\n",
            "   ---------------------------------------- 0.0/7.8 MB ? eta -:--:--\n",
            "   ---- ----------------------------------- 0.9/7.8 MB 28.4 MB/s eta 0:00:01\n",
            "   ---------- ----------------------------- 2.1/7.8 MB 26.7 MB/s eta 0:00:01\n",
            "   ----------------- ---------------------- 3.4/7.8 MB 27.2 MB/s eta 0:00:01\n",
            "   ----------------------- ---------------- 4.6/7.8 MB 26.6 MB/s eta 0:00:01\n",
            "   ----------------------------- ---------- 5.7/7.8 MB 25.9 MB/s eta 0:00:01\n",
            "   ------------------------------------- -- 7.2/7.8 MB 27.2 MB/s eta 0:00:01\n",
            "   ---------------------------------------  7.8/7.8 MB 26.2 MB/s eta 0:00:01\n",
            "   ---------------------------------------- 7.8/7.8 MB 23.7 MB/s eta 0:00:00\n",
            "Downloading dash_core_components-2.0.0-py3-none-any.whl (3.8 kB)\n",
            "Downloading dash_html_components-2.0.0-py3-none-any.whl (4.1 kB)\n",
            "Downloading dash_table-5.0.0-py3-none-any.whl (3.9 kB)\n",
            "Downloading ipywidgets-8.1.5-py3-none-any.whl (139 kB)\n",
            "   ---------------------------------------- 0.0/139.8 kB ? eta -:--:--\n",
            "   ---------------------------------------- 139.8/139.8 kB 8.6 MB/s eta 0:00:00\n",
            "Downloading ConfigArgParse-1.7-py3-none-any.whl (25 kB)\n",
            "Downloading comm-0.2.2-py3-none-any.whl (7.2 kB)\n",
            "Downloading jupyterlab_widgets-3.0.13-py3-none-any.whl (214 kB)\n",
            "   ---------------------------------------- 0.0/214.4 kB ? eta -:--:--\n",
            "   --------------------------------------- 214.4/214.4 kB 13.6 MB/s eta 0:00:00\n",
            "Downloading widgetsnbextension-4.0.13-py3-none-any.whl (2.3 MB)\n",
            "   ---------------------------------------- 0.0/2.3 MB ? eta -:--:--\n",
            "   ---------------------- ----------------- 1.3/2.3 MB 42.3 MB/s eta 0:00:01\n",
            "   ---------------------------------------- 2.3/2.3 MB 29.8 MB/s eta 0:00:00\n",
            "Downloading retrying-1.3.4-py3-none-any.whl (11 kB)\n",
            "Installing collected packages: dash-table, dash-html-components, dash-core-components, widgetsnbextension, retrying, jupyterlab-widgets, configargparse, comm, dash, ipywidgets, open3d\n",
            "  Attempting uninstall: widgetsnbextension\n",
            "    Found existing installation: widgetsnbextension 3.5.2\n",
            "    Uninstalling widgetsnbextension-3.5.2:\n",
            "      Successfully uninstalled widgetsnbextension-3.5.2\n",
            "  Attempting uninstall: jupyterlab-widgets\n",
            "    Found existing installation: jupyterlab-widgets 3.0.9\n",
            "    Uninstalling jupyterlab-widgets-3.0.9:\n",
            "      Successfully uninstalled jupyterlab-widgets-3.0.9\n",
            "  Attempting uninstall: comm\n",
            "    Found existing installation: comm 0.1.2\n",
            "    Uninstalling comm-0.1.2:\n",
            "      Successfully uninstalled comm-0.1.2\n",
            "  Attempting uninstall: ipywidgets\n",
            "    Found existing installation: ipywidgets 7.6.5\n",
            "    Uninstalling ipywidgets-7.6.5:\n",
            "      Successfully uninstalled ipywidgets-7.6.5\n",
            "Successfully installed comm-0.2.2 configargparse-1.7 dash-2.18.2 dash-core-components-2.0.0 dash-html-components-2.0.0 dash-table-5.0.0 ipywidgets-8.1.5 jupyterlab-widgets-3.0.13 open3d-0.18.0 retrying-1.3.4 widgetsnbextension-4.0.13\n"
          ]
        }
      ],
      "source": [
        "!pip install matplotlib\n",
        "!pip install transforms3d\n",
        "!pip install pyrender\n",
        "!pip install opencv-python\n",
        "!pip install open3d"
      ]
    },
    {
      "cell_type": "code",
      "execution_count": 3,
      "metadata": {
        "id": "hnlkyo9LvAPa"
      },
      "outputs": [],
      "source": [
        "%matplotlib inline\n",
        "%load_ext autoreload\n",
        "%autoreload 2\n",
        "\n",
        "import numpy as np\n",
        "import matplotlib.pyplot as plt\n",
        "import cv2\n",
        "\n",
        "EPS = 1e-8\n"
      ]
    },
    {
      "cell_type": "code",
      "execution_count": 4,
      "metadata": {
        "id": "tfnewAjNvDeV"
      },
      "outputs": [
        {
          "name": "stderr",
          "output_type": "stream",
          "text": [
            "'rm' is not recognized as an internal or external command,\n",
            "operable program or batch file.\n"
          ]
        }
      ],
      "source": [
        "#remove if there is any exisiting folder\n",
        "!rm -rf *"
      ]
    },
    {
      "cell_type": "markdown",
      "metadata": {
        "id": "QbaNu-pjxEoY"
      },
      "source": [
        "# **Step 1: Load Data**"
      ]
    },
    {
      "cell_type": "code",
      "execution_count": 5,
      "metadata": {
        "colab": {
          "base_uri": "https://localhost:8080/"
        },
        "id": "I0DxgDFnHs3o",
        "outputId": "38b5db00-87f7-406a-a12f-eb619b11987d"
      },
      "outputs": [
        {
          "name": "stderr",
          "output_type": "stream",
          "text": [
            "Downloading...\n",
            "From: https://drive.google.com/uc?id=126-_jJtQowBRTpsNieMDTPgjDW4VYaHa\n",
            "To: c:\\Users\\Akula\\Documents\\Two_Multi_View_Depth_Estimation\\two_view_stereo.zip\n",
            "\n",
            "  0%|          | 0.00/11.7M [00:00<?, ?B/s]\n",
            " 13%|█▎        | 1.57M/11.7M [00:00<00:00, 14.5MB/s]\n",
            " 36%|███▌      | 4.19M/11.7M [00:00<00:00, 21.0MB/s]\n",
            " 63%|██████▎   | 7.34M/11.7M [00:00<00:00, 24.2MB/s]\n",
            " 85%|████████▌ | 9.96M/11.7M [00:00<00:00, 21.8MB/s]\n",
            "100%|██████████| 11.7M/11.7M [00:00<00:00, 22.7MB/s]\n",
            "'unzip' is not recognized as an internal or external command,\n",
            "operable program or batch file.\n",
            "'chmod' is not recognized as an internal or external command,\n",
            "operable program or batch file.\n"
          ]
        }
      ],
      "source": [
        "!gdown \"https://drive.google.com/uc?id=126-_jJtQowBRTpsNieMDTPgjDW4VYaHa\"\n",
        "\n",
        "# Unzip the downloaded file\n",
        "!unzip -q two_view_stereo.zip\n",
        "# Ensure all files are editable\n",
        "!chmod -R u+w two_view_stereo"
      ]
    },
    {
      "cell_type": "code",
      "execution_count": 8,
      "metadata": {
        "colab": {
          "base_uri": "https://localhost:8080/",
          "height": 287
        },
        "id": "DfI1tRh4uU4C",
        "outputId": "63174fdb-c950-4887-c50f-996a3867b2ea"
      },
      "outputs": [
        {
          "name": "stdout",
          "output_type": "stream",
          "text": [
            "Loading data/templeRing\n"
          ]
        },
        {
          "name": "stderr",
          "output_type": "stream",
          "text": [
            "47it [00:00, 68.30it/s]\n"
          ]
        },
        {
          "data": {
            "image/png": "[encoded data removed]",
            "text/plain": [
              "<Figure size 640x480 with 2 Axes>"
            ]
          },
          "metadata": {},
          "output_type": "display_data"
        }
      ],
      "source": [
        "# Load data\n",
        "from dataloader import load_middlebury_data\n",
        "DATA = load_middlebury_data(\"data/templeRing\")\n",
        "# reference: https://vision.middlebury.edu/mview/\n",
        "\n",
        "view_i, view_j = DATA[0], DATA[3]\n",
        "\n",
        "\n",
        "plt.subplot(1, 2, 1)\n",
        "plt.title(\"Sample: left view (reference)\")\n",
        "plt.imshow(view_i[\"rgb\"])\n",
        "plt.subplot(1, 2, 2)\n",
        "plt.title(\"Sample: right view\")\n",
        "plt.imshow(view_j[\"rgb\"])\n",
        "plt.show()\n"
      ]
    },
    {
      "cell_type": "markdown",
      "metadata": {
        "id": "D5SlHj8bCKNq"
      },
      "source": [
        "# **Step 2 : Rectify two views [20 points]**"
      ]
    },
    {
      "cell_type": "markdown",
      "metadata": {
        "id": "Gf5j2aEcPWAL"
      },
      "source": [
        "## **(2a) Understanding Camera Configuration (5 points)**\n",
        "\n",
        "### 1. World to Camera Transformation\n",
        "\n",
        "- A 3D point $ P_w $ in the world coordinate system is transformed to the camera's coordinate system:\n",
        "  $$\n",
        "  P_i = R_{iw} \\cdot P_w + T_{wi}\n",
        "  $$\n",
        "  - $ R_{iw} $: Rotation matrix from the world to the camera's coordinate system.\n",
        "  -$ T_{wi} $: Translation vector representing the camera's position in the world.\n"
      ]
    },
    {
      "cell_type": "markdown",
      "metadata": {
        "id": "AvZkf5KUQWnM"
      },
      "source": [
        "You will need to compute the right-to-left transformation:\n",
        "\n",
        "$$\n",
        "P_i = R_{ij} \\cdot P_j + T_{ij}\n",
        "$$\n",
        "\n",
        "and the baseline \\( B \\).\n",
        "\n",
        "where  B : Baseline is the distance between the two camera centers:\n",
        "  $$\n",
        "  B = \\|T_{ij}\\|\n",
        "  $$\n",
        "  \n",
        "  Complete the function `compute_right2left_transformation` in `two_view_stereo.py`\n"
      ]
    },
    {
      "cell_type": "code",
      "execution_count": 14,
      "metadata": {
        "colab": {
          "base_uri": "https://localhost:8080/",
          "height": 213
        },
        "collapsed": true,
        "id": "Gf3el4FMVIoP",
        "outputId": "3db34356-acf3-49a1-f67c-41cd9e3425da"
      },
      "outputs": [
        {
          "ename": "ModuleNotFoundError",
          "evalue": "No module named 'two_view_stereo.dataloader'; 'two_view_stereo' is not a package",
          "output_type": "error",
          "traceback": [
            "\u001b[1;31m---------------------------------------------------------------------------\u001b[0m",
            "\u001b[1;31mModuleNotFoundError\u001b[0m                       Traceback (most recent call last)",
            "Cell \u001b[1;32mIn[14], line 1\u001b[0m\n\u001b[1;32m----> 1\u001b[0m \u001b[38;5;28;01mfrom\u001b[39;00m \u001b[38;5;21;01mtwo_view_stereo\u001b[39;00m \u001b[38;5;28;01mimport\u001b[39;00m (\n\u001b[0;32m      2\u001b[0m     rectify_2view,\n\u001b[0;32m      3\u001b[0m     compute_rectification_R,\n\u001b[0;32m      4\u001b[0m     compute_right2left_transformation,\n\u001b[0;32m      5\u001b[0m )\n\u001b[0;32m      7\u001b[0m \u001b[38;5;66;03m# Load rotation (R) and translation (T) matrices for the left (view_i) and right (view_j) cameras\u001b[39;00m\n\u001b[0;32m      8\u001b[0m \u001b[38;5;66;03m# These describe how each camera is positioned relative to the world.\u001b[39;00m\n\u001b[0;32m      9\u001b[0m R_wi, T_wi \u001b[38;5;241m=\u001b[39m view_i[\u001b[38;5;124m\"\u001b[39m\u001b[38;5;124mR\u001b[39m\u001b[38;5;124m\"\u001b[39m], view_i[\u001b[38;5;124m\"\u001b[39m\u001b[38;5;124mT\u001b[39m\u001b[38;5;124m\"\u001b[39m][:, \u001b[38;5;28;01mNone\u001b[39;00m]  \u001b[38;5;66;03m# Left camera: p_i = R_wi @ p_w + T_wi\u001b[39;00m\n",
            "File \u001b[1;32mc:\\Users\\Akula\\Documents\\Two_Multi_View_Depth_Estimation\\two_view_stereo.py:15\u001b[0m\n\u001b[0;32m     11\u001b[0m \u001b[38;5;28;01mimport\u001b[39;00m \u001b[38;5;21;01mopen3d\u001b[39;00m \u001b[38;5;28;01mas\u001b[39;00m \u001b[38;5;21;01mo3d\u001b[39;00m\n\u001b[0;32m     14\u001b[0m \u001b[38;5;28;01mfrom\u001b[39;00m \u001b[38;5;21;01mtwo_view_stereo\u001b[39;00m\u001b[38;5;21;01m.\u001b[39;00m\u001b[38;5;21;01mdataloader\u001b[39;00m \u001b[38;5;28;01mimport\u001b[39;00m load_middlebury_data\n\u001b[1;32m---> 15\u001b[0m \u001b[38;5;28;01mfrom\u001b[39;00m \u001b[38;5;21;01mtwo_view_stereo\u001b[39;00m\u001b[38;5;21;01m.\u001b[39;00m\u001b[38;5;21;01mutils\u001b[39;00m \u001b[38;5;28;01mimport\u001b[39;00m viz_camera_poses\n\u001b[0;32m     17\u001b[0m EPS \u001b[38;5;241m=\u001b[39m \u001b[38;5;241m1e-8\u001b[39m\n\u001b[0;32m     20\u001b[0m \u001b[38;5;28;01mdef\u001b[39;00m \u001b[38;5;21mhomo_corners\u001b[39m(h, w, H):\n",
            "File \u001b[1;32mc:\\Users\\Akula\\Documents\\Two_Multi_View_Depth_Estimation\\utils.py:11\u001b[0m\n\u001b[0;32m      9\u001b[0m \u001b[38;5;28;01mimport\u001b[39;00m \u001b[38;5;21;01mtrimesh\u001b[39;00m\n\u001b[0;32m     10\u001b[0m \u001b[38;5;28;01mimport\u001b[39;00m \u001b[38;5;21;01mcv2\u001b[39;00m\n\u001b[1;32m---> 11\u001b[0m \u001b[38;5;28;01mfrom\u001b[39;00m \u001b[38;5;21;01mtwo_view_stereo\u001b[39;00m\u001b[38;5;21;01m.\u001b[39;00m\u001b[38;5;21;01mdataloader\u001b[39;00m \u001b[38;5;28;01mimport\u001b[39;00m load_middlebury_data\n\u001b[0;32m     13\u001b[0m EPS \u001b[38;5;241m=\u001b[39m \u001b[38;5;241m1e-8\u001b[39m\n\u001b[0;32m     16\u001b[0m \u001b[38;5;28;01mdef\u001b[39;00m \u001b[38;5;21madd_coordinate\u001b[39m(scene, R, T, axis_len\u001b[38;5;241m=\u001b[39m\u001b[38;5;241m0.05\u001b[39m, sections\u001b[38;5;241m=\u001b[39m\u001b[38;5;241m6\u001b[39m, ratio\u001b[38;5;241m=\u001b[39m\u001b[38;5;241m20\u001b[39m):\n",
            "\u001b[1;31mModuleNotFoundError\u001b[0m: No module named 'two_view_stereo.dataloader'; 'two_view_stereo' is not a package"
          ]
        }
      ],
      "source": [
        "from two_view_stereo import (\n",
        "    rectify_2view,\n",
        "    compute_rectification_R,\n",
        "    compute_right2left_transformation,\n",
        ")\n",
        "\n",
        "# Load rotation (R) and translation (T) matrices for the left (view_i) and right (view_j) cameras\n",
        "# These describe how each camera is positioned relative to the world.\n",
        "R_wi, T_wi = view_i[\"R\"], view_i[\"T\"][:, None]  # Left camera: p_i = R_wi @ p_w + T_wi\n",
        "R_wj, T_wj = view_j[\"R\"], view_j[\"T\"][:, None]  # Right camera: p_j = R_wj @ p_w + T_wj\n",
        "\n",
        "# Step 1: Compute the transformation to convert coordinates from the right view to the left view\n",
        "# R_ji: Rotation matrix from the right camera's coordinate system to the left's\n",
        "# T_ji: Translation vector from the right camera to the left camera\n",
        "# B: Baseline (distance between the two cameras)\n",
        "R_ji, T_ji, B = compute_right2left_transformation(R_wi, T_wi, R_wj, T_wj)\n",
        "\n"
      ]
    },
    {
      "cell_type": "markdown",
      "metadata": {
        "id": "HA7c7E7HSbXx"
      },
      "source": [
        "Compute $ R_{\\text{rect}} $ to align the epipole $ e_i $ with the y-axis $[0, 1, 0]^T$, ensuring it points to y-infinity (accounting for clockwise image rotation). Use cross-products to calculate the new axes.\n"
      ]
    },
    {
      "cell_type": "code",
      "execution_count": null,
      "metadata": {
        "id": "icKjRtnmQv4T"
      },
      "outputs": [],
      "source": [
        "# This checks that the left camera is to the left of the right camera.\n",
        "assert T_ji[1, 0] > 0, \"here we assume view i should be on the left, not on the right\"\n",
        "\n",
        "# Step 2: Compute the rectification rotation matrix for the left view\n",
        "# This matrix aligns the left camera's view to a \"rectified\" coordinate system.\n",
        "R_irect = compute_rectification_R(T_ji)"
      ]
    },
    {
      "cell_type": "markdown",
      "metadata": {
        "id": "XwIQK9xhT7gq"
      },
      "source": [
        "We implemented half of the two-view calibration for you after getting Rrect\n",
        "i . Complete\n",
        "the function `rectify_2view` by first computing the homography and then using cv2.warpPerspective\n",
        "to warp the image. When warping the image, use the target shape we computed for you as\n",
        "dsize=(w max, h max). We are using the Kcorr (already computed for you) here to enlarge the pictures and eliminate\n",
        "black areas after warping.\n",
        "\n",
        "\n",
        "Compute homography for both left and right images$$\n",
        "H_i = K_{i_{\\text{corr}}} \\cdot \\left( R_{\\text{irect}} \\cdot K_i^{-1} \\right)\n",
        "$$\n"
      ]
    },
    {
      "cell_type": "code",
      "execution_count": null,
      "metadata": {
        "id": "XqmYQKw9T6Sx"
      },
      "outputs": [],
      "source": [
        "# Step 3: Rectify both images\n",
        "# This step adjusts both camera views so that corresponding points in the two images are aligned.\n",
        "rgb_i_rect, rgb_j_rect, K_i_corr, K_j_corr = rectify_2view(\n",
        "    view_i[\"rgb\"],\n",
        "    view_j[\"rgb\"],\n",
        "    R_irect,                # Rectification rotation matrix for the left camera\n",
        "    R_irect @ R_ji,         # Rectification rotation matrix for the right camera\n",
        "    view_i[\"K\"],\n",
        "    view_j[\"K\"],\n",
        "    u_padding=20,\n",
        "    v_padding=20,\n",
        ")"
      ]
    },
    {
      "cell_type": "code",
      "execution_count": null,
      "metadata": {
        "id": "6sfQg_eAuXE0"
      },
      "outputs": [],
      "source": [
        "plt.subplot(2, 2, 1)\n",
        "plt.title(\"input view i\")\n",
        "plt.imshow(cv2.rotate(view_i[\"rgb\"], cv2.ROTATE_90_COUNTERCLOCKWISE))\n",
        "plt.subplot(2, 2, 2)\n",
        "plt.title(\"input view j\")\n",
        "plt.imshow(cv2.rotate(view_j[\"rgb\"], cv2.ROTATE_90_COUNTERCLOCKWISE))\n",
        "plt.subplot(2, 2, 3)\n",
        "plt.title(\"rect view i\")\n",
        "plt.imshow(cv2.rotate(rgb_i_rect, cv2.ROTATE_90_COUNTERCLOCKWISE))\n",
        "plt.subplot(2, 2, 4)\n",
        "plt.title(\"rect view j\")\n",
        "plt.imshow(cv2.rotate(rgb_j_rect, cv2.ROTATE_90_COUNTERCLOCKWISE))\n",
        "plt.tight_layout()\n",
        "plt.show()"
      ]
    },
    {
      "cell_type": "markdown",
      "metadata": {
        "id": "Qo53jmLW4QId"
      },
      "source": [
        "<img src = \"https://drive.google.com/uc?export=view&id=1BqOlSjo7clisA3yx7talTzl_Enryezd9\">"
      ]
    },
    {
      "cell_type": "markdown",
      "metadata": {
        "id": "4VDdMz1yVwhA"
      },
      "source": [
        "# **Step 3: Compute the disparity [50 points]**"
      ]
    },
    {
      "cell_type": "code",
      "execution_count": null,
      "metadata": {
        "colab": {
          "base_uri": "https://localhost:8080/",
          "height": 231
        },
        "collapsed": true,
        "id": "ksD8k6KDVzsn",
        "outputId": "6b036061-845c-4cb7-f178-7e31081e6760"
      },
      "outputs": [
        {
          "ename": "NameError",
          "evalue": "name 'K_i_corr' is not defined",
          "output_type": "error",
          "traceback": [
            "\u001b[0;31m---------------------------------------------------------------------------\u001b[0m",
            "\u001b[0;31mNameError\u001b[0m                                 Traceback (most recent call last)",
            "\u001b[0;32m<ipython-input-17-edbd1808b759>\u001b[0m in \u001b[0;36m<cell line: 6>\u001b[0;34m()\u001b[0m\n\u001b[1;32m      4\u001b[0m \u001b[0;31m# Ensure intrinsic parameters are consistent between the two rectified images\u001b[0m\u001b[0;34m\u001b[0m\u001b[0;34m\u001b[0m\u001b[0m\n\u001b[1;32m      5\u001b[0m \u001b[0;31m# These checks make sure the camera's intrinsic properties (like focal length) match as expected.\u001b[0m\u001b[0;34m\u001b[0m\u001b[0;34m\u001b[0m\u001b[0m\n\u001b[0;32m----> 6\u001b[0;31m \u001b[0;32massert\u001b[0m \u001b[0mK_i_corr\u001b[0m\u001b[0;34m[\u001b[0m\u001b[0;36m1\u001b[0m\u001b[0;34m,\u001b[0m \u001b[0;36m1\u001b[0m\u001b[0;34m]\u001b[0m \u001b[0;34m==\u001b[0m \u001b[0mK_j_corr\u001b[0m\u001b[0;34m[\u001b[0m\u001b[0;36m1\u001b[0m\u001b[0;34m,\u001b[0m \u001b[0;36m1\u001b[0m\u001b[0;34m]\u001b[0m\u001b[0;34m,\u001b[0m \u001b[0;34m\"The focal lengths in the Y direction must be the same.\"\u001b[0m\u001b[0;34m\u001b[0m\u001b[0;34m\u001b[0m\u001b[0m\n\u001b[0m\u001b[1;32m      7\u001b[0m \u001b[0;32massert\u001b[0m \u001b[0;34m(\u001b[0m\u001b[0mK_i_corr\u001b[0m\u001b[0;34m[\u001b[0m\u001b[0;36m0\u001b[0m\u001b[0;34m]\u001b[0m \u001b[0;34m==\u001b[0m \u001b[0mK_j_corr\u001b[0m\u001b[0;34m[\u001b[0m\u001b[0;36m0\u001b[0m\u001b[0;34m]\u001b[0m\u001b[0;34m)\u001b[0m\u001b[0;34m.\u001b[0m\u001b[0mall\u001b[0m\u001b[0;34m(\u001b[0m\u001b[0;34m)\u001b[0m\u001b[0;34m,\u001b[0m \u001b[0;34m\"The intrinsic matrices must match along the X dimension.\"\u001b[0m\u001b[0;34m\u001b[0m\u001b[0;34m\u001b[0m\u001b[0m\n\u001b[1;32m      8\u001b[0m assert (\n",
            "\u001b[0;31mNameError\u001b[0m: name 'K_i_corr' is not defined"
          ]
        }
      ],
      "source": [
        "# Import necessary functions\n",
        "from two_view_stereo.two_view_stereo import image2patch, ssd_kernel\n",
        "\n",
        "# Ensure intrinsic parameters are consistent between the two rectified images\n",
        "# These checks make sure the camera's intrinsic properties (like focal length) match as expected.\n",
        "assert K_i_corr[1, 1] == K_j_corr[1, 1], \"The focal lengths in the Y direction must be the same.\"\n",
        "assert (K_i_corr[0] == K_j_corr[0]).all(), \"The intrinsic matrices must match along the X dimension.\"\n",
        "assert (\n",
        "    rgb_i_rect.shape == rgb_j_rect.shape\n",
        "), \"The rectified images must have the same shape (height and width).\"\n",
        "\n",
        "# Get the dimensions of the rectified images (height and width)\n",
        "h, w = rgb_i_rect.shape[:2]\n",
        "\n",
        "# Compute the disparity offset `d0`:\n",
        "# This accounts for the difference in principal points (the centers of the images) between the two cameras.\n",
        "d0 = K_j_corr[1, 2] - K_i_corr[1, 2]\n"
      ]
    },
    {
      "cell_type": "markdown",
      "metadata": {
        "id": "9zjQQrC5YNwm"
      },
      "source": [
        "### (a) **Extract Patches from the Image (15pts)**\n",
        "We are going to compare the patch and complete the function `image2patch` using **zero padding** on the border.  \n",
        "- **Note:** Ensure the function works when \\( k\\_size = 1 \\)."
      ]
    },
    {
      "cell_type": "code",
      "execution_count": null,
      "metadata": {
        "id": "u59MIlxQYkLX"
      },
      "outputs": [],
      "source": [
        "# Convert the images to patches for comparison\n",
        "# Divide pixel values by 255.0 to normalize them to the range [0, 1].\n",
        "# `image2patch` extracts small overlapping patches of size 3x3 around each pixel.\n",
        "patches_i = image2patch(rgb_i_rect.astype(float) / 255.0, 3)  # Patches from the left image\n",
        "patches_j = image2patch(rgb_j_rect.astype(float) / 255.0, 3)  # Patches from the right image\n"
      ]
    },
    {
      "cell_type": "markdown",
      "metadata": {
        "id": "KooG0N3hZOiU"
      },
      "source": [
        "#### **SSD (Sum of Squared Differences): (15 points)**\n",
        "Complete `ssd_kernel` function. The metrics treat each RGB value as one grayscale channel and finally you should sum the three (R, G, B) channels (sum across the channels at each pixel, i.e., [H, W, 3] would go to [H, W]).  \n",
        "The input of each kernel function is a `src` [M, K \\times K, 3] that contains  M  left patches and a `dst` [N, K \\times K, 3] that contains  N right patches.  \n",
        "You should output the metric with shape [M, N]. Each left patch should compare with each right patch.  \n",
        "Try to use vectorized NumPy operations in the kernel functions.  \n",
        "You are going to get an example plot for pixel (400, 200) of the left view and its matching score on the right view.\n"
      ]
    },
    {
      "cell_type": "code",
      "execution_count": null,
      "metadata": {
        "id": "pVV6HrnEYv-c"
      },
      "outputs": [],
      "source": [
        "# Generate indices for the rows (v-coordinates) of the images\n",
        "vi_idx, vj_idx = np.arange(h), np.arange(h)\n",
        "\n",
        "# Compute disparity candidates:\n",
        "# For each row in the left image (vi_idx), calculate potential disparity values (differences in row indices).\n",
        "# Add the disparity offset `d0` to adjust for the camera's principal point difference.\n",
        "disp_candidates = vi_idx[:, None] - vj_idx[None, :] + d0\n",
        "\n",
        "# Create a mask to filter out invalid disparity values\n",
        "# Disparity values should always be positive.\n",
        "valid_disp_mask = disp_candidates > 0.0\n",
        "\n",
        "# Example: Compute similarity scores for a specific column `u` (e.g., column 400)\n",
        "u = 400  # You can change this to analyze a different column\n",
        "\n",
        "# Extract patches for the selected column `u` from both images\n",
        "buf_i, buf_j = patches_i[:, u], patches_j[:, u]\n",
        "\n",
        "# Compute the Sum of Squared Differences (SSD) similarity kernel:\n",
        "# - The smaller the SSD value, the better the match.\n",
        "value = ssd_kernel(buf_i, buf_j)\n",
        "\n",
        "# Students: Why do we compute `_upper`?\n",
        "# `_upper` is a placeholder for invalid matches. We set invalid values (not allowed by `valid_disp_mask`)\n",
        "# to a very large number, ensuring they are not chosen as matches during disparity calculations.\n",
        "_upper = value.max() + 1.0\n",
        "value[~valid_disp_mask] = _upper\n"
      ]
    },
    {
      "cell_type": "code",
      "execution_count": null,
      "metadata": {
        "id": "KvtOmTc3a1E1"
      },
      "outputs": [],
      "source": [
        "plt.subplot(1,2,1)\n",
        "# Viz the  disparity-cost of u=500, v=200 on left view\n",
        "v = 200\n",
        "plt.title(\"Cost-Disparity of one left pixel\")\n",
        "plt.xlabel(\"Disparity\")\n",
        "plt.ylabel(\"Cost\")\n",
        "plt.plot(disp_candidates[v], value[v])\n",
        "plt.subplot(1,2,2)\n",
        "plt.title(\"The cost map of one left horizon col\")\n",
        "plt.xlabel(\"Disparity\")\n",
        "plt.ylabel(\"left pixel coordinates  v_L\")\n",
        "plt.imshow(value)\n",
        "plt.tight_layout()\n",
        "plt.show()"
      ]
    },
    {
      "cell_type": "markdown",
      "metadata": {
        "id": "Hgp4GQWCa6Bf"
      },
      "source": [
        "Now let's do the Left-Right consistency: in above right figure, the vertical axis is the left pixel coordinates and the horizontal axis is the right pixel (disparity).\n",
        "\n",
        "When we find the minimal cost right view pixel for our reference pixel (e.g. find the minimum of the left figure), we only check the best matched right pixel patch, which corresponds to finding the minimum along the horizontal axis of the right cost map.\n",
        "\n",
        "However, the matching from the left to the right and from the right to the left should be consistent. So we should also check the minimum of the vertical axis and see whether this two minimum agree with each other, below is an example\n"
      ]
    },
    {
      "cell_type": "code",
      "execution_count": null,
      "metadata": {
        "id": "RH7RpT4Qa-jJ"
      },
      "outputs": [],
      "source": [
        "# example for the pixel (u=400,v=300) from the left view\n",
        "v = 300\n",
        "best_matched_right_pixel = value[v].argmin()\n",
        "best_matched_left_pixel = value[:,best_matched_right_pixel].argmin()\n",
        "print(v, best_matched_left_pixel)\n",
        "consistent_flag = best_matched_left_pixel == v\n",
        "print(consistent_flag)\n",
        "#print(disp_candidates[v][best_matched_right_pixel] )\n",
        "\n",
        "# example for the pixel (u=400,v=380) from the left view\n",
        "v = 380\n",
        "best_matched_right_pixel = value[v].argmin()\n",
        "best_matched_left_pixel = value[:,best_matched_right_pixel].argmin()\n",
        "print(v, best_matched_left_pixel)\n",
        "consistent_flag = best_matched_left_pixel == v\n",
        "print(consistent_flag)"
      ]
    },
    {
      "cell_type": "markdown",
      "metadata": {
        "id": "VUVUrlqrbb86"
      },
      "source": [
        "#### **Compute Disparity : (20 points)** Based on above example, iterate over all u, complete the function `compute_disparity_map`"
      ]
    },
    {
      "cell_type": "code",
      "execution_count": null,
      "metadata": {
        "id": "eL4iFWluMDs_"
      },
      "outputs": [],
      "source": [
        "from two_view_stereo.two_view_stereo import compute_disparity_map\n",
        "\n",
        "disp_map, consistency_mask = compute_disparity_map(\n",
        "    rgb_i_rect, rgb_j_rect, d0=K_j_corr[1, 2] - K_i_corr[1, 2], k_size=5\n",
        ")\n",
        "\n",
        "plt.imshow(cv2.rotate(consistency_mask, cv2.ROTATE_90_COUNTERCLOCKWISE))\n",
        "plt.title(\"L-R consistency check mask\")\n",
        "plt.show()"
      ]
    },
    {
      "cell_type": "markdown",
      "metadata": {
        "id": "jGB9ojnLWAX4"
      },
      "source": [
        "# **Step 3: Compute Depth Map** [30 points]\n",
        "\n",
        "Given the disparity map computed above, complete\n",
        "the function `compute_dep_and_pcl` that returns a depth map with shape [H,W] and also the back-\n",
        "projected point cloud in camera frame with shape [H,W,3] where each pixel store the xyz coordinates\n",
        "of the point cloud."
      ]
    },
    {
      "cell_type": "code",
      "execution_count": null,
      "metadata": {
        "id": "R2R8kccNWJZR"
      },
      "outputs": [],
      "source": [
        "from two_view_stereo.two_view_stereo import compute_dep_and_pcl\n",
        "\n",
        "\n",
        "# * 3. compute depth map and filter them\n",
        "dep_map, xyz_cam = compute_dep_and_pcl(disp_map, B, K_i_corr)\n",
        "\n",
        "plt.subplot(1, 3, 1)\n",
        "plt.title(\"rgb\")\n",
        "plt.imshow(cv2.rotate(rgb_i_rect, cv2.ROTATE_90_COUNTERCLOCKWISE))\n",
        "plt.subplot(1, 3, 2)\n",
        "plt.title(\"raw disparity\")\n",
        "plt.imshow(cv2.rotate(disp_map, cv2.ROTATE_90_COUNTERCLOCKWISE))\n",
        "plt.colorbar()\n",
        "plt.subplot(1, 3, 3)\n",
        "plt.title(\"raw depth\")\n",
        "plt.imshow(cv2.rotate(dep_map, cv2.ROTATE_90_COUNTERCLOCKWISE))\n",
        "plt.colorbar()\n",
        "plt.tight_layout()\n",
        "plt.show()\n"
      ]
    },
    {
      "cell_type": "markdown",
      "metadata": {
        "id": "Lk8EafUO4u51"
      },
      "source": [
        "<img src = \"https://drive.google.com/uc?export=view&id=1HKGqgEoc5V3zIeEAWBTOMeiHlgyVCrk9\">\n"
      ]
    },
    {
      "cell_type": "markdown",
      "metadata": {
        "id": "YbLVmVStFuFp"
      },
      "source": [
        "## Report\n",
        "You will be graded primarily based on your report.\n",
        "A demonstration of understanding of the concepts involved in the project are required show the output produced by your code.\n",
        "\n",
        "Include visualizations of the output of each stage in your pipeline (as shown in the system diagram on page 2), and a description of what you did for each step. Assume that we’re familiar with the project, so you don’t need to spend time repeating what’s already in the course notes. Instead, focus on any interesting problems you encountered and/or solutions you implemented."
      ]
    },
    {
      "cell_type": "markdown",
      "metadata": {
        "id": "OkqHKTebLX6g"
      },
      "source": [
        "# Submission Guidelines\n",
        "\n",
        "**If your submission does not comply with the following guidelines, you’ll be given ZERO credit.**"
      ]
    },
    {
      "cell_type": "code",
      "execution_count": null,
      "metadata": {
        "id": "uEerqCgCWglw"
      },
      "outputs": [],
      "source": []
    },
    {
      "cell_type": "markdown",
      "metadata": {
        "id": "g-Gcl_0OLmPA"
      },
      "source": [
        "Your submission on ELMS(Canvas) must be a pdf file, following the naming convention **YourDirectoryID_proj4.pdf**. For example, xyz123_proj4.pdf.\n",
        "\n",
        "**All your results and report should be included in this notebook. After you finished all, please export the notebook as a pdf file and submit it to ELMS(Canvas).**"
      ]
    },
    {
      "cell_type": "markdown",
      "metadata": {
        "id": "HRz1NLl59LOn"
      },
      "source": [
        "# Collaboration Policy\n",
        "You are encouraged to discuss the ideas with your peers. However, the code should be your own, and should be the result of you exercising your own understanding of it. If you reference anyone else’s code in writing your project, you must properly cite it in your code (in comments) and your writeup. For the full honor code refer to the CMSC426 Fall 2023 website."
      ]
    },
    {
      "cell_type": "markdown",
      "metadata": {
        "id": "Fzm58nx_4EVi"
      },
      "source": [
        "Project Inspiration Credit to CIS580 Machine Perception\n"
      ]
    }
  ],
  "metadata": {
    "accelerator": "GPU",
    "colab": {
      "gpuType": "T4",
      "provenance": []
    },
    "kernelspec": {
      "display_name": "Python 3",
      "name": "python3"
    },
    "language_info": {
      "codemirror_mode": {
        "name": "ipython",
        "version": 3
      },
      "file_extension": ".py",
      "mimetype": "text/x-python",
      "name": "python",
      "nbconvert_exporter": "python",
      "pygments_lexer": "ipython3",
      "version": "3.11.7"
    }
  },
  "nbformat": 4,
  "nbformat_minor": 0
}
